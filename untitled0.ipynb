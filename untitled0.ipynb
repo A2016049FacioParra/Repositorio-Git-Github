{
  "nbformat": 4,
  "nbformat_minor": 0,
  "metadata": {
    "colab": {
      "provenance": [],
      "authorship_tag": "ABX9TyPwG0WsD8UNl7anwOHEb0SB",
      "include_colab_link": true
    },
    "kernelspec": {
      "name": "python3",
      "display_name": "Python 3"
    },
    "language_info": {
      "name": "python"
    }
  },
  "cells": [
    {
      "cell_type": "markdown",
      "metadata": {
        "id": "view-in-github",
        "colab_type": "text"
      },
      "source": [
        "<a href=\"https://colab.research.google.com/github/A2016049FacioParra/Repositorio-Git-Github/blob/main/untitled0.ipynb\" target=\"_parent\"><img src=\"https://colab.research.google.com/assets/colab-badge.svg\" alt=\"Open In Colab\"/></a>"
      ]
    },
    {
      "cell_type": "code",
      "execution_count": null,
      "metadata": {
        "colab": {
          "base_uri": "https://localhost:8080/"
        },
        "id": "pAflgIqpEtqi",
        "outputId": "93e3ac6c-36eb-4bd6-becd-4659baa57399"
      },
      "outputs": [
        {
          "output_type": "stream",
          "name": "stdout",
          "text": [
            "Nombre Pedro\n",
            "Nombre Carla\n"
          ]
        }
      ],
      "source": [
        "class Persona:\n",
        "\n",
        "    def inicializar(self,nom):\n",
        "        self.nombre=nom\n",
        "\n",
        "    def imprimir(self):\n",
        "        print(\"Nombre\",self.nombre)\n",
        "\n",
        "\n",
        "# bloque principal\n",
        "\n",
        "persona1=Persona()\n",
        "persona1.inicializar(\"Pedro\")\n",
        "persona1.imprimir()\n",
        "\n",
        "persona2=Persona()\n",
        "persona2.inicializar(\"Carla\")\n",
        "persona2.imprimir()"
      ]
    },
    {
      "cell_type": "code",
      "source": [
        "class Alumno:\n",
        "\n",
        "    def inicializar(self,nombre,nota):\n",
        "        self.nombre=nombre\n",
        "        self.nota=nota\n",
        "\n",
        "    def imprimir(self):\n",
        "        print(\"Nombre:\",self.nombre)\n",
        "        print(\"Nota:\",self.nota)\n",
        "\n",
        "    def mostrar_estado(self):\n",
        "        if self.nota>=4:\n",
        "            print(\"Regular\")\n",
        "        else:\n",
        "            print(\"Libre\")\n",
        "\n",
        "\n",
        "# bloque principal\n",
        "\n",
        "alumno1=Alumno()\n",
        "alumno1.inicializar(\"diego\",2)\n",
        "alumno1.imprimir()\n",
        "alumno1.mostrar_estado()\n",
        "\n",
        "alumno2=Alumno()\n",
        "alumno2.inicializar(\"ana\",10)\n",
        "alumno2.imprimir()\n",
        "alumno2.mostrar_estado()"
      ],
      "metadata": {
        "colab": {
          "base_uri": "https://localhost:8080/"
        },
        "id": "w_igsu-4EwyF",
        "outputId": "977fc45d-0ba0-4bbc-989c-6b4ff8cd3595"
      },
      "execution_count": null,
      "outputs": [
        {
          "output_type": "stream",
          "name": "stdout",
          "text": [
            "Nombre: diego\n",
            "Nota: 2\n",
            "Libre\n",
            "Nombre: ana\n",
            "Nota: 10\n",
            "Regular\n"
          ]
        }
      ]
    },
    {
      "cell_type": "code",
      "source": [
        "class Persona:\n",
        "    def __init__(self, nombre, edad):\n",
        "        self.nombre = nombre\n",
        "        self.edad = edad\n",
        "\n",
        "    def mostrar_datos(self):\n",
        "        print(f'Nombre: {self.nombre}')\n",
        "        print(f'Edad: {self.edad}')\n",
        "\n",
        "    def es_mayor_de_edad(self):\n",
        "        if self.edad >= 18:\n",
        "            print(f'{self.nombre} es mayor de edad.')\n",
        "        else:\n",
        "            print(f'{self.nombre} no es mayor de edad.')\n",
        "\n",
        "# Crear una instancia de la clase Persona\n",
        "persona = Persona('Juan', 20)\n",
        "\n",
        "# Mostrar los datos\n",
        "persona.mostrar_datos()\n",
        "\n",
        "# Verificar si la persona es mayor de edad\n",
        "persona.es_mayor_de_edad()\n"
      ],
      "metadata": {
        "colab": {
          "base_uri": "https://localhost:8080/"
        },
        "id": "TY9WM8jgE3it",
        "outputId": "3f73a70b-2d3c-4f10-d1e1-767592dadf41"
      },
      "execution_count": null,
      "outputs": [
        {
          "output_type": "stream",
          "name": "stdout",
          "text": [
            "Nombre: Juan\n",
            "Edad: 20\n",
            "Juan es mayor de edad.\n"
          ]
        }
      ]
    },
    {
      "cell_type": "code",
      "source": [
        "class Triangulo:\n",
        "    def __init__(self, lado1, lado2, lado3):\n",
        "        self.lado1 = lado1\n",
        "        self.lado2 = lado2\n",
        "        self.lado3 = lado3\n",
        "\n",
        "    def imprimir_lado_mayor(self):\n",
        "        print(f'El lado mayor es: {max(self.lado1, self.lado2, self.lado3)}')\n",
        "\n",
        "    def es_equilatero(self):\n",
        "        if self.lado1 == self.lado2 == self.lado3:\n",
        "            print('El triángulo es equilátero.')\n",
        "        else:\n",
        "            print('El triángulo no es equilátero.')\n",
        "\n",
        "# Crear una instancia de la clase Triangulo\n",
        "triangulo = Triangulo(3, 3, 3)\n",
        "\n",
        "# Imprimir el valor del lado mayor\n",
        "triangulo.imprimir_lado_mayor()\n",
        "\n",
        "# Verificar si el triángulo es equilátero\n",
        "triangulo.es_equilatero()\n"
      ],
      "metadata": {
        "colab": {
          "base_uri": "https://localhost:8080/"
        },
        "id": "7yrfCpbSE3Y0",
        "outputId": "042ea5a8-ae72-480b-eccc-61b923872057"
      },
      "execution_count": null,
      "outputs": [
        {
          "output_type": "stream",
          "name": "stdout",
          "text": [
            "El lado mayor es: 3\n",
            "El triángulo es equilátero.\n"
          ]
        }
      ]
    }
  ]
}